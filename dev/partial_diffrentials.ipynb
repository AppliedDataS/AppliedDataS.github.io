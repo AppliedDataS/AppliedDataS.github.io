{
 "cells": [
  {
   "attachments": {},
   "cell_type": "markdown",
   "metadata": {},
   "source": [
    "\n",
    "\\begin{equation*}\n",
    "4 t e^{2 t^{2}} \\sin{(t - 1 )} \\cos{(t + 1 )} - e^{2 t^{\n",
    "2}} \\sin{(t - 1 )} \\sin{(t + 1 )} + e^{2 t^{2}} \\cos{left(t - 1 )} \\cos{(t + 1 )}\n",
    "\\end{equation*}\n"
   ]
  },
  {
   "cell_type": "code",
   "execution_count": 29,
   "metadata": {},
   "outputs": [
    {
     "name": "stdout",
     "output_type": "stream",
     "text": [
      "IPython console for SymPy 1.11.1 (Python 3.11.2-64-bit) (ground types: python)\n",
      "\n",
      "These commands were executed:\n",
      ">>> from sympy import *\n",
      ">>> x, y, z, t = symbols('x y z t')\n",
      ">>> k, m, n = symbols('k m n', integer=True)\n",
      ">>> f, g, h = symbols('f g h', cls=Function)\n",
      ">>> init_printing()\n",
      "\n",
      "Documentation can be found at https://docs.sympy.org/1.11.1/\n",
      "\n"
     ]
    },
    {
     "data": {
      "text/latex": [
       "$\\displaystyle 4 t e^{2 t^{2}} \\sin{\\left(t - 1 \\right)} \\cos{\\left(t + 1 \\right)} - e^{2 t^{2}} \\sin{\\left(t - 1 \\right)} \\sin{\\left(t + 1 \\right)} + e^{2 t^{2}} \\cos{\\left(t - 1 \\right)} \\cos{\\left(t + 1 \\right)}$"
      ],
      "text/plain": [
       "        2                             2                             2         \n",
       "     2⋅t                           2⋅t                           2⋅t          \n",
       "4⋅t⋅ℯ    ⋅sin(t - 1)⋅cos(t + 1) - ℯ    ⋅sin(t - 1)⋅sin(t + 1) + ℯ    ⋅cos(t - \n",
       "\n",
       "             \n",
       "             \n",
       "1)⋅cos(t + 1)"
      ]
     },
     "execution_count": 29,
     "metadata": {},
     "output_type": "execute_result"
    }
   ],
   "source": [
    "from sympy import pprint, init_session, latex, simplify\n",
    "init_session()\n",
    "from sympy import var, diff, exp, sin, cos, tan, sqrt, pi, Function\n",
    "t =var('t')\n",
    "# # x = Function('t')\n",
    "# # y = Function('t')\n",
    "# m = var('m')\n",
    "# z = var('z')\n",
    "# res = diff(diff(exp(x) + 2 * sin(x) + x ** 3))\n",
    "# res = diff(exp(x) / x)\n",
    "# res = diff(x*exp(x)*cos(x))\n",
    "# res = diff((x**3)*sin(x))\n",
    "# res = diff(tan(x))\n",
    "# res = diff(exp(sin(x**2)))\n",
    "# res = diff(x**(3/2)+(pi)*x**2+sqrt(7))\n",
    "# res = diff(x**3*cos(x)*exp(x))\n",
    "# res = diff(exp((x+1)**2))\n",
    "# res = diff(x**2*cos(x**3))\n",
    "# res = diff(sin(x))*exp(cos(x))\n",
    "# eq = pi * x**3 + x * y**2 + m * y**4\n",
    "# eq = x**2 * y + y**2 * z + z**2 * x\n",
    "# eq = exp(2*x) * sin(y) * z**2 + cos(z) * exp(x) * exp(y)\n",
    "# eq = sqrt(x)/y\n",
    "\n",
    "x = t \n",
    "y =sin(t)\n",
    "\n",
    "f = sqrt(x)/y\n",
    "# resX = diff(eq, x)\n",
    "# resY = diff(eq, y)\n",
    "# resZ = diff(eq, z)\n",
    "\n",
    "# pprint(diff(f,t))\n",
    "\n",
    "x = t + 1\n",
    "y = t - 1 \n",
    "z = t**2\n",
    "f = cos(x) * sin(y) * exp(2*z)\n",
    "# resX = diff(eq, x)\n",
    "# resY = diff(eq, y)\n",
    "# resZ = diff(eq, z)\n",
    "\n",
    "diff(f,t)"
   ]
  },
  {
   "cell_type": "code",
   "execution_count": 34,
   "metadata": {},
   "outputs": [
    {
     "data": {
      "text/latex": [
       "$\\displaystyle \\left(4 t \\sin{\\left(t - 1 \\right)} \\cos{\\left(t + 1 \\right)} - \\sin{\\left(t - 1 \\right)} \\sin{\\left(t + 1 \\right)} + \\cos{\\left(t - 1 \\right)} \\cos{\\left(t + 1 \\right)}\\right) e^{2 t^{2}}$"
      ],
      "text/plain": [
       "                                                                              \n",
       "                                                                             2\n",
       "(4⋅t⋅sin(t - 1)⋅cos(t + 1) - sin(t - 1)⋅sin(t + 1) + cos(t - 1)⋅cos(t + 1))⋅ℯ \n",
       "\n",
       "  2\n",
       "⋅t \n",
       "   "
      ]
     },
     "execution_count": 34,
     "metadata": {},
     "output_type": "execute_result"
    }
   ],
   "source": [
    "from sympy import factor, expand, simplify\n",
    "factor(diff(f,t))"
   ]
  },
  {
   "cell_type": "markdown",
   "metadata": {},
   "source": []
  },
  {
   "cell_type": "code",
   "execution_count": 35,
   "metadata": {},
   "outputs": [
    {
     "data": {
      "text/latex": [
       "$\\displaystyle \\left(2 t \\sin{\\left(2 t \\right)} - 2 t \\sin{\\left(2 \\right)} + \\cos{\\left(2 t \\right)}\\right) e^{2 t^{2}}$"
      ],
      "text/plain": [
       "                                           2\n",
       "                                        2⋅t \n",
       "(2⋅t⋅sin(2⋅t) - 2⋅t⋅sin(2) + cos(2⋅t))⋅ℯ    "
      ]
     },
     "execution_count": 35,
     "metadata": {},
     "output_type": "execute_result"
    }
   ],
   "source": [
    "simplify(diff(f,t))"
   ]
  },
  {
   "cell_type": "markdown",
   "metadata": {},
   "source": []
  },
  {
   "cell_type": "code",
   "execution_count": 36,
   "metadata": {},
   "outputs": [
    {
     "data": {
      "text/latex": [
       "$\\displaystyle 4 t e^{2 t^{2}} \\sin{\\left(t - 1 \\right)} \\cos{\\left(t + 1 \\right)} - e^{2 t^{2}} \\sin{\\left(t - 1 \\right)} \\sin{\\left(t + 1 \\right)} + e^{2 t^{2}} \\cos{\\left(t - 1 \\right)} \\cos{\\left(t + 1 \\right)}$"
      ],
      "text/plain": [
       "        2                             2                             2         \n",
       "     2⋅t                           2⋅t                           2⋅t          \n",
       "4⋅t⋅ℯ    ⋅sin(t - 1)⋅cos(t + 1) - ℯ    ⋅sin(t - 1)⋅sin(t + 1) + ℯ    ⋅cos(t - \n",
       "\n",
       "             \n",
       "             \n",
       "1)⋅cos(t + 1)"
      ]
     },
     "execution_count": 36,
     "metadata": {},
     "output_type": "execute_result"
    }
   ],
   "source": [
    "expand(diff(f,t))"
   ]
  },
  {
   "cell_type": "code",
   "execution_count": null,
   "metadata": {},
   "outputs": [],
   "source": []
  }
 ],
 "metadata": {
  "kernelspec": {
   "display_name": "conda",
   "language": "python",
   "name": "python3"
  },
  "language_info": {
   "codemirror_mode": {
    "name": "ipython",
    "version": 3
   },
   "file_extension": ".py",
   "mimetype": "text/x-python",
   "name": "python",
   "nbconvert_exporter": "python",
   "pygments_lexer": "ipython3",
   "version": "3.11.2"
  },
  "orig_nbformat": 4
 },
 "nbformat": 4,
 "nbformat_minor": 2
}
