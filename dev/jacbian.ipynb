{
 "cells": [
  {
   "attachments": {},
   "cell_type": "markdown",
   "metadata": {},
   "source": [
    "### Understanding Jacobian functions through explicit differentiation\n",
    "#### Many examples\n",
    "\n",
    "Jacobian of a single function of many variables\n",
    "\n",
    "\\begin{equation*}\n",
    "f(x1,x2,x3,...xn)\n",
    "\\end{equation*}\n",
    "\n",
    "\\begin{equation*}\n",
    "    J=\n",
    "\\begin{bmatrix}\n",
    "\\frac{\\partial f}{\\partial x_1}&, \\frac{\\partial f}{\\partial x_2}&,\\frac{\\partial f}{\\partial x_3} &, ... &,\\frac {\\partial f}{\\partial x_n}\n",
    "\\end{bmatrix}\n",
    "\\end{equation*}"
   ]
  },
  {
   "cell_type": "code",
   "execution_count": 1,
   "metadata": {},
   "outputs": [
    {
     "name": "stdout",
     "output_type": "stream",
     "text": [
      "2*x*y\n",
      "x**2\n",
      "3\n"
     ]
    }
   ],
   "source": [
    "try:  \n",
    "  from sympy import *\n",
    "except ModuleNotFoundError as e:\n",
    "  print(e)\n",
    "  !export PATH=\"/opt/homebrew/bin:$PATH\"\n",
    "  %pip install -r ../requirements.txt\n",
    "\n",
    "\n",
    "x = Symbol('x')\n",
    "y = Symbol('y')\n",
    "z = Symbol('z')\n",
    "f = x**2 * y + 3 * z\n",
    "fpx = diff(f,x)\n",
    "fpy = diff(f,y)\n",
    "fpz = diff(f,z)\n",
    "print(fpx)\n",
    "print(fpy)\n",
    "print (fpz)"
   ]
  },
  {
   "attachments": {},
   "cell_type": "markdown",
   "metadata": {},
   "source": [
    "### Working Out the Jacobian for an example function\n",
    "\n",
    "for the function\n"
   ]
  },
  {
   "attachments": {},
   "cell_type": "markdown",
   "metadata": {},
   "source": [
    "\\begin{equation*}\n",
    "f(x) = x^{2}y+3z\n",
    "\\end{equation*}"
   ]
  },
  {
   "attachments": {},
   "cell_type": "markdown",
   "metadata": {},
   "source": [
    "The partial derivatives of the function with respect to x, y and z are:"
   ]
  },
  {
   "attachments": {},
   "cell_type": "markdown",
   "metadata": {},
   "source": [
    "\\begin{equation*}\n",
    "\\frac {\\partial f}{\\partial x} = 2xy\n",
    "\\end{equation*}\n",
    "\n",
    "\\begin{equation*}\n",
    "\\frac {\\partial f}{\\partial y} = x^{2}\n",
    "\\end{equation*}\n",
    "\n",
    "\\begin{equation*}\n",
    "\\frac {\\partial f}{\\partial z} = 3\n",
    "\\end{equation*}\n",
    "\n",
    "hence the Jacobian is\n",
    "\n",
    "\\begin{equation*}\n",
    "J = \\begin{bmatrix}\n",
    "2xy & x^{2} & 3\n",
    "\\end{bmatrix}\n",
    "\\end{equation*}"
   ]
  },
  {
   "attachments": {},
   "cell_type": "markdown",
   "metadata": {},
   "source": [
    "\n",
    "We now have an algebraic expression for a vector which when we give it a specific x, y, z coordinate, will return a vector pointing in __the direction of steepest slope of this function__. The vector for this particular function has a constant contribution in the z direction which does not depend on the location selected. "
   ]
  },
  {
   "attachments": {},
   "cell_type": "markdown",
   "metadata": {},
   "source": [
    "### Calculating the Jacobian Quiz\n",
    "[Coursera's Multivariant Calculus Course](https://www.coursera.org/learn/multivariate-calculus-machine-learning/)"
   ]
  },
  {
   "cell_type": "code",
   "execution_count": 2,
   "metadata": {},
   "outputs": [
    {
     "name": "stdout",
     "output_type": "stream",
     "text": [
      "2*x*y + 0.75*y\n",
      "x**2 + 0.75*x\n"
     ]
    }
   ],
   "source": [
    "# Q1\n",
    "x = Symbol('x')\n",
    "y = Symbol('y')\n",
    "f = x**2 * y + 3/4*x*y+10\n",
    "fpx = diff(f,x)\n",
    "fpy = diff(f,y)\n",
    "\n",
    "print(fpx)\n",
    "print(fpy)\n"
   ]
  },
  {
   "attachments": {},
   "cell_type": "markdown",
   "metadata": {},
   "source": [
    "##### Question 1 Solution:"
   ]
  },
  {
   "attachments": {},
   "cell_type": "markdown",
   "metadata": {},
   "source": [
    "\\begin{equation*}\n",
    "\\frac{\\partial f}{\\partial x} = 2xy + \\frac{3}{4}y\n",
    "\\end{equation*}\n",
    "\n",
    "\\begin{equation*}\n",
    "\\frac{\\partial f}{\\partial y} = x^{2} + \\frac{3}{4}x\n",
    "\\end{equation*}"
   ]
  },
  {
   "cell_type": "code",
   "execution_count": 3,
   "metadata": {},
   "outputs": [
    {
     "name": "stdout",
     "output_type": "stream",
     "text": [
      "e^{x} \\cos{\\left(y \\right)} + e^{3 y}\n",
      "3 x e^{3 y} - e^{x} \\sin{\\left(y \\right)}\n",
      "0\n"
     ]
    }
   ],
   "source": [
    "# Q2\n",
    "x = Symbol('x')\n",
    "y = Symbol('y')\n",
    "z = Symbol('z')\n",
    "f = exp(x)*cos(y) + x*exp(3*y)-2\n",
    "fpx = diff(f,x)\n",
    "fpy = diff(f,y)\n",
    "fpz = diff(f,z)\n",
    "print(latex(fpx))\n",
    "print(latex(fpy))\n",
    "print (latex(fpz))"
   ]
  },
  {
   "attachments": {},
   "cell_type": "markdown",
   "metadata": {},
   "source": [
    "##### Question 2 Solution:"
   ]
  },
  {
   "attachments": {},
   "cell_type": "markdown",
   "metadata": {},
   "source": [
    "\\begin{equation*}\n",
    "\\frac{\\partial f}{\\partial x} = e^{x} \\cos{\\left(y \\right)} + e^{3 y}\n",
    "\\end{equation*}\n",
    "\n",
    "\\begin{equation*}\n",
    "\\frac{\\partial f}{\\partial y} = x^{2} + \\frac{3}{4}x\n",
    "\\end{equation*}"
   ]
  },
  {
   "cell_type": "code",
   "execution_count": 4,
   "metadata": {},
   "outputs": [
    {
     "name": "stdout",
     "output_type": "stream",
     "text": [
      "2 x y^{2} z^{2} + e^{x} \\cos{\\left(y \\right)}\n",
      "2 x^{2} y z^{2} - e^{x} \\sin{\\left(y \\right)}\n",
      "2 x^{2} y^{2} z\n"
     ]
    }
   ],
   "source": [
    "# Q3\n",
    "x = Symbol('x')\n",
    "y = Symbol('y')\n",
    "z = Symbol('z')\n",
    "f = exp(x)*cos(y) +x**2 * y**2 * z**2\n",
    "fpx = diff(f,x)\n",
    "fpy = diff(f,y)\n",
    "fpz = diff(f,z)\n",
    "print(latex(fpx))\n",
    "print(latex(fpy))\n",
    "print (latex(fpz))"
   ]
  },
  {
   "attachments": {},
   "cell_type": "markdown",
   "metadata": {},
   "source": [
    "##### Question 3 Solution:"
   ]
  },
  {
   "attachments": {},
   "cell_type": "markdown",
   "metadata": {},
   "source": [
    "\\begin{equation*}\n",
    "\\frac{\\partial f}{\\partial x} = 2 x y^{2} z^{2} + e^{x} \\cos{\\left(y \\right)}\n",
    "\\end{equation*}\n",
    "\n",
    "\\begin{equation*}\n",
    "\\frac{\\partial f}{\\partial y} = 2 x^{2} y z^{2} - e^{x} \\sin{\\left(y \\right)}\n",
    "\\end{equation*}\n",
    "\n",
    "\\begin{equation*}\n",
    "\\frac{\\partial f}{\\partial z} = 2 x^{2} y^{2} z\n",
    "\\end{equation*}"
   ]
  },
  {
   "cell_type": "code",
   "execution_count": 5,
   "metadata": {},
   "outputs": [
    {
     "name": "stdout",
     "output_type": "stream",
     "text": [
      "2 x - \\sin{\\left(x \\right)} \\sin{\\left(z \\right)}\n",
      "3 e^{y} e^{z}\n",
      "3 e^{y} e^{z} + \\cos{\\left(x \\right)} \\cos{\\left(z \\right)}\n"
     ]
    },
    {
     "data": {
      "text/plain": [
       "[0, 3, 4]"
      ]
     },
     "execution_count": 5,
     "metadata": {},
     "output_type": "execute_result"
    }
   ],
   "source": [
    "# Q4\n",
    "x = Symbol('x')\n",
    "y = Symbol('y')\n",
    "z = Symbol('z')\n",
    "f = x**2 +3 * exp(y) * exp(z) + cos(x) * sin(z)\n",
    "fpx = diff(f,x)\n",
    "fpy = diff(f,y)\n",
    "fpz = diff(f,z)\n",
    "print(latex(fpx))\n",
    "print(latex(fpy))\n",
    "print (latex(fpz))\n",
    "pnt = {x: 0,y: 0,z: 0}\n",
    "J0 = [fpx.subs(pnt), fpy.subs(pnt), fpz.subs(pnt)]\n",
    "J0"
   ]
  },
  {
   "attachments": {},
   "cell_type": "markdown",
   "metadata": {},
   "source": [
    "##### Question 4 Solution:"
   ]
  },
  {
   "attachments": {},
   "cell_type": "markdown",
   "metadata": {},
   "source": [
    "\\begin{equation*}\n",
    "\\frac{\\partial f}{\\partial x} = 2 x - \\sin{\\left(x \\right)} \\sin{\\left(z \\right)}\n",
    "\\end{equation*}\n",
    "\\begin{equation*}\n",
    "\\frac{\\partial f}{\\partial y} = 3 e^{y} e^{z}\n",
    "\\end{equation*}\n",
    "\\begin{equation*}\n",
    "\\frac{\\partial f}{\\partial z} = 3 e^{y} e^{z} + \\cos{\\left(x \\right)} \\cos{\\left(z \\right)}\n",
    "\\end{equation*}"
   ]
  },
  {
   "attachments": {},
   "cell_type": "markdown",
   "metadata": {},
   "source": [
    "substituting {x: 0,y: 0,z: 0} we get"
   ]
  },
  {
   "attachments": {},
   "cell_type": "markdown",
   "metadata": {},
   "source": [
    "\\begin{equation*}\n",
    "J(0, 0, 0) =[0, 3, 4] \n",
    "\\end{equation*}"
   ]
  },
  {
   "cell_type": "code",
   "execution_count": 6,
   "metadata": {},
   "outputs": [
    {
     "name": "stdout",
     "output_type": "stream",
     "text": [
      "10 x e^{z} \\sin{\\left(y \\right)} + e^{y} \\cos{\\left(z \\right)}\n",
      "5 x^{2} e^{z} \\cos{\\left(y \\right)} + x e^{y} \\cos{\\left(z \\right)}\n",
      "5 x^{2} e^{z} \\sin{\\left(y \\right)} - x e^{y} \\sin{\\left(z \\right)}\n"
     ]
    },
    {
     "data": {
      "text/plain": [
       "[1, 0, 0]"
      ]
     },
     "execution_count": 6,
     "metadata": {},
     "output_type": "execute_result"
    }
   ],
   "source": [
    "# Q5\n",
    "x = Symbol('x')\n",
    "y = Symbol('y')\n",
    "z = Symbol('z')\n",
    "f = x * exp(y) * cos(z) + 5 * x**2 * sin(y) * exp(z)\n",
    "fpx = diff(f,x)\n",
    "fpy = diff(f,y)\n",
    "fpz = diff(f,z)\n",
    "print(latex(fpx))\n",
    "print(latex(fpy))\n",
    "print (latex(fpz))\n",
    "pnt = {x: 0,y: 0,z: 0}\n",
    "J0 = [fpx.subs(pnt), fpy.subs(pnt), fpz.subs(pnt)]\n",
    "J0"
   ]
  },
  {
   "attachments": {},
   "cell_type": "markdown",
   "metadata": {},
   "source": [
    "##### Question 5 Solution:\n",
    "\n",
    "\\begin{equation*}\n",
    "\\frac{\\partial f}{\\partial x} = 10 x e^{z} \\sin{\\left(y \\right)} + e^{y} \\cos{\\left(z \\right)}\n",
    "\\end{equation*}\n",
    "\n",
    "\\begin{equation*}\n",
    "\\frac{\\partial f}{\\partial y} = 3 e^{y} e^{z}\n",
    "\\end{equation*}\n",
    "\n",
    "\\begin{equation*}\n",
    "\\frac{\\partial f}{\\partial z} = 5 x^{2} e^{z} \\sin{\\left(y \\right)} - x e^{y} \\sin{\\left(z \\right)}\n",
    "\\end{equation*}\n",
    "\n",
    "substituting {x: 0,y: 0,z: 0} we get\n",
    "\n",
    "\\begin{equation*}\n",
    "J(0, 0, 0) =[1, 0, 0] \n",
    "\\end{equation*}"
   ]
  },
  {
   "attachments": {},
   "cell_type": "markdown",
   "metadata": {},
   "source": [
    "\\begin{equation*}\n",
    "u(x,y) = x - 2 y \n",
    "\\end{equation*}\n",
    "\n",
    "\\begin{equation*}\n",
    "v(x,y) = 3 y - 2 x\n",
    "\\end{equation*}\n",
    "\n",
    "\\begin{equation*}\n",
    "J_u = \n",
    "\\begin{matrix}\n",
    "[ \\frac{\\partial_u}{\\partial_x} &  \\frac{\\partial_u}{\\partial_y} ]\n",
    "\\end{matrix}\n",
    "\\end{equation*}\n",
    "\n",
    "\\begin{equation*}\n",
    "J_v = \n",
    "\\begin{matrix}\n",
    "[ \\frac{\\partial_v}{\\partial_x} &  \\frac{\\partial_v}{\\partial_y} ]\n",
    "\\end{matrix}\n",
    "\\end{equation*}\n",
    "\n",
    "\\begin{equation*}\n",
    "J = \n",
    "\\begin{bmatrix}\n",
    "\\frac{\\partial_u}{\\partial_x} &  \\frac{\\partial_u}{\\partial_y} \\\\\n",
    "\\\\\n",
    " \\frac{\\partial_v}{\\partial_x} &  \\frac{\\partial_v}{\\partial_y} \n",
    "\\end{bmatrix}\n",
    "\\end{equation*}"
   ]
  },
  {
   "attachments": {},
   "cell_type": "markdown",
   "metadata": {},
   "source": [
    "#### Matrix Jacobians\n",
    "<img src=\"../matrix_jac_1.png\" width=\"70%\">\n",
    "<br/><br/>\n",
    "The Jacobians of a matrix can be computed using the following methods:"
   ]
  },
  {
   "cell_type": "code",
   "execution_count": 7,
   "metadata": {},
   "outputs": [
    {
     "name": "stdout",
     "output_type": "stream",
     "text": [
      "[[1, -2], [-2, 3]]\n",
      "1\n",
      "-2\n",
      "-2\n",
      "3\n",
      "x - 2 y\n",
      "- 2 x + 3 y\n"
     ]
    }
   ],
   "source": [
    "# Q5\n",
    "import numpy as np\n",
    "x = Symbol('x')\n",
    "y = Symbol('y')\n",
    "\n",
    "u = x -(2 * y)\n",
    "v = 3 * y  - (2 * x)\n",
    "ux = diff(u,x)\n",
    "uy = diff(u,y)\n",
    "vx = diff(v,x)\n",
    "vy = diff(v,y)\n",
    "J = [[ux,uy],[vx,vy]]\n",
    "print(J)\n",
    "print(latex(ux))\n",
    "print(latex(uy))\n",
    "print(latex(vx))\n",
    "print(latex(vy))\n",
    "print(latex(u))\n",
    "print(latex(v))\n",
    "# print (latex(fpz))\n",
    "# pnt = {x: 0,y: 0,z: 0}\n",
    "# J0 = [fpx.subs(pnt), fpy.subs(pnt), fpz.subs(pnt)]\n",
    "# J0"
   ]
  },
  {
   "attachments": {},
   "cell_type": "markdown",
   "metadata": {},
   "source": [
    "\\begin{equation*}\n",
    "u(x,y) = x - 2 y^{3}\n",
    "\\end{equation*}\n",
    "\n",
    "\\begin{equation*}\n",
    "v(x,y) =- 2 x^{3} + 3 y^{2}\n",
    "\\end{equation*}\n",
    "hence the derived Jacobian is \n",
    "\n",
    "\\begin{equation*}\n",
    "J = \n",
    "\\begin{bmatrix}\n",
    "1 &, - 6 y^{2} \\\\\n",
    "\n",
    "- 6 x^{2} &, 6 y\n",
    "\\end{bmatrix}\n",
    "\\end{equation*}"
   ]
  },
  {
   "attachments": {},
   "cell_type": "markdown",
   "metadata": {},
   "source": [
    "### Bigger Jacobians Quiz"
   ]
  },
  {
   "cell_type": "code",
   "execution_count": 8,
   "metadata": {},
   "outputs": [
    {
     "name": "stdout",
     "output_type": "stream",
     "text": [
      "ux --> 18 x y^{2} + z e^{x}\n",
      "uy --> 18 x^{2} y\n",
      "uz --> e^{x}\n",
      "vx --> 2 x y^{3} + y\n",
      "vy --> 3 x^{2} y^{2} + x\n",
      "vz --> 2\n",
      "wx --> - e^{y} \\sin{\\left(x \\right)} \\sin{\\left(z \\right)}\n",
      "wy --> e^{y} \\sin{\\left(z \\right)} \\cos{\\left(x \\right)}\n",
      "wz --> e^{y} \\cos{\\left(x \\right)} \\cos{\\left(z \\right)}\n",
      "u(x,y,z) = 9 x^{2} y^{2} + z e^{x}\n",
      "v(x,y,z) = x^{2} y^{3} + x y + 2 z\n",
      "w(x,y,z) = e^{y} \\sin{\\left(z \\right)} \\cos{\\left(x \\right)}\n",
      "[[0, 0, 1], [0, 0, 2], [0, 0, 1]]\n"
     ]
    }
   ],
   "source": [
    "# Q1\n",
    "import numpy as np\n",
    "x = Symbol('x')\n",
    "y = Symbol('y')\n",
    "\n",
    "u = 9*x**2 * y**2 + z*exp(x) \n",
    "v = x*y + x**2 * y**3 + 2*z\n",
    "w = cos(x)*sin(z)*exp(y)\n",
    "ux = diff(u,x)\n",
    "uy = diff(u,y)\n",
    "uz = diff(u,z)\n",
    "vx = diff(v,x)\n",
    "vy = diff(v,y)\n",
    "vz = diff(v,z)\n",
    "wx = diff(w,x)\n",
    "wy = diff(w,y)\n",
    "wz = diff(w,z)\n",
    "\n",
    "# print(J)\n",
    "print(\"ux -->\",latex(ux))\n",
    "print(\"uy -->\",latex(uy))\n",
    "print(\"uz -->\",latex(uz))\n",
    "print(\"vx -->\",latex(vx))\n",
    "print(\"vy -->\",latex(vy))\n",
    "print(\"vz -->\",latex(vz))\n",
    "print(\"wx -->\",latex(wx))\n",
    "print(\"wy -->\",latex(wy))\n",
    "print(\"wz -->\",latex(wz))\n",
    "print(\"u(x,y,z) =\" ,latex(u))\n",
    "print(\"v(x,y,z) =\",latex(v))\n",
    "print(\"w(x,y,z) =\", latex(w))\n",
    "pnt = {x: 0,y: 0,z: 0}\n",
    "\n",
    "jPnt = [[ux.subs(pnt),uy.subs(pnt),uz.subs(pnt)],\n",
    "        [vx.subs(pnt),vy.subs(pnt),vz.subs(pnt)],\n",
    "        [wx.subs(pnt),wy.subs(pnt),wz.subs(pnt)]]\n",
    "print(jPnt)"
   ]
  },
  {
   "attachments": {},
   "cell_type": "markdown",
   "metadata": {},
   "source": [
    "#### Solution for Q1\n",
    "\n",
    "\\begin{equation*}\n",
    "u(x,y,z) = 9 x^{2} y^{2} + z e^{x}\n",
    "\\end{equation*}\n",
    "\n",
    "\\begin{equation*}\n",
    "v(x,y,z) = x^{2} y^{3} + x y + 2 z\n",
    "\\end{equation*}\n",
    "\n",
    "\\begin{equation*}\n",
    "w(x,y,z) = e^{y} \\sin{\\left(z \\right)} \\cos{\\left(x \\right)}\n",
    "\\end{equation*}\n",
    "\n",
    "hence the derived Jacobian is \n",
    "\n",
    "\\begin{equation*}\n",
    "J = \n",
    "\\begin{bmatrix}\n",
    "18 x y^{2} + z e^{x} & \n",
    "18 x^{2} y &\n",
    "e^{x}\\\\\n",
    "\\\\\n",
    "2 x y^{3} + y & \n",
    "3 x^{2} y^{2} + x & \n",
    "2 \\\\\n",
    "\\\\\n",
    "- e^{y} \\sin{\\left(x \\right)} \\sin{\\left(z \\right)}&\n",
    "e^{y} \\sin{\\left(z \\right)} \\cos{\\left(x \\right)}&\n",
    "e^{y} \\cos{\\left(x \\right)} \\cos{\\left(z \\right)}\n",
    "\\end{bmatrix}\n",
    "\\end{equation*}\n",
    "\n",
    "Evaluating the Jacobian at x=0, y=0, z=0 gives\n",
    "\\begin{equation*}\n",
    "\\begin{bmatrix}\n",
    "0 & 0 & 1 \\\\\n",
    "0 & 0 & 2 \\\\\n",
    "0 & 0 & 1\n",
    "\\end{bmatrix}\n",
    "\\end{equation*}"
   ]
  },
  {
   "cell_type": "code",
   "execution_count": 9,
   "metadata": {},
   "outputs": [
    {
     "name": "stdout",
     "output_type": "stream",
     "text": [
      "ux --> \\sin{\\left(\\phi \\right)} \\cos{\\left(\\theta \\right)}\n",
      "uy --> - r \\sin{\\left(\\phi \\right)} \\sin{\\left(\\theta \\right)}\n",
      "uz --> r \\cos{\\left(\\phi \\right)} \\cos{\\left(\\theta \\right)}\n",
      "vx --> \\sin{\\left(\\phi \\right)} \\sin{\\left(\\theta \\right)}\n",
      "vy --> r \\sin{\\left(\\phi \\right)} \\cos{\\left(\\theta \\right)}\n",
      "vz --> r \\sin{\\left(\\theta \\right)} \\cos{\\left(\\phi \\right)}\n",
      "wx --> \\cos{\\left(\\phi \\right)}\n",
      "wy --> 0\n",
      "wz --> - r \\sin{\\left(\\phi \\right)}\n",
      "u(x,y,z) = r \\sin{\\left(\\phi \\right)} \\cos{\\left(\\theta \\right)}\n",
      "v(x,y,z) = r \\sin{\\left(\\phi \\right)} \\sin{\\left(\\theta \\right)}\n",
      "w(x,y,z) = r \\cos{\\left(\\phi \\right)}\n",
      "[[1/2, -1/2, 1/2], [1/2, 1/2, 1/2], [sqrt(2)/2, 0, -sqrt(2)/2]]\n"
     ]
    }
   ],
   "source": [
    "# Q2\n",
    "import numpy as np\n",
    "r = Symbol('r')\n",
    "theta = Symbol('theta')\n",
    "phi = Symbol('phi')\n",
    "\n",
    "u = r * cos(theta) * sin(phi)\n",
    "v = r * sin(theta) * sin(phi)\n",
    "w = r * cos(phi)\n",
    "ux = diff(u,r)\n",
    "uy = diff(u,theta)\n",
    "uz = diff(u,phi)\n",
    "vx = diff(v,r)\n",
    "vy = diff(v,theta)\n",
    "vz = diff(v,phi)\n",
    "wx = diff(w,r)\n",
    "wy = diff(w,theta)\n",
    "wz = diff(w,phi)\n",
    "\n",
    "# print(J)\n",
    "print(\"ux -->\",latex(ux))\n",
    "print(\"uy -->\",latex(uy))\n",
    "print(\"uz -->\",latex(uz))\n",
    "print(\"vx -->\",latex(vx))\n",
    "print(\"vy -->\",latex(vy))\n",
    "print(\"vz -->\",latex(vz))\n",
    "print(\"wx -->\",latex(wx))\n",
    "print(\"wy -->\",latex(wy))\n",
    "print(\"wz -->\",latex(wz))\n",
    "print(\"u(x,y,z) =\" ,latex(u))\n",
    "print(\"v(x,y,z) =\",latex(v))\n",
    "print(\"w(x,y,z) =\", latex(w))\n",
    "pnt = {r: 1,theta: pi/4,phi: pi/4}\n",
    "\n",
    "jPnt = [[ux.subs(pnt),uy.subs(pnt),uz.subs(pnt)],\n",
    "        [vx.subs(pnt),vy.subs(pnt),vz.subs(pnt)],\n",
    "        [wx.subs(pnt),wy.subs(pnt),wz.subs(pnt)]]\n",
    "print(jPnt)"
   ]
  },
  {
   "attachments": {},
   "cell_type": "markdown",
   "metadata": {},
   "source": [
    "#### Solution for Q2\n",
    "\n",
    "\\begin{equation*}\n",
    "u(r,\\theta,\\phi) = r \\sin{\\left(\\phi \\right)} \\cos{\\left(\\theta \\right)}\n",
    "\\end{equation*}\n",
    "\n",
    "\\begin{equation*}\n",
    "v(r,\\theta,\\phi) = r \\sin{\\left(\\phi \\right)} \\sin{\\left(\\theta \\right)}\n",
    "\\end{equation*}\n",
    "\n",
    "\\begin{equation*}\n",
    "w(r,\\theta,\\phi) = r \\cos{\\left(\\phi \\right)}\n",
    "\\end{equation*}\n",
    "\n",
    "hence the derived Jacobian is \n",
    "\n",
    "\\begin{equation*}\n",
    "J = \n",
    "\\begin{bmatrix}\n",
    "\\sin{\\left(\\phi \\right)} \\cos{\\left(\\theta \\right)} & \n",
    "- r \\sin{\\left(\\phi \\right)} \\sin{\\left(\\theta \\right)} &\n",
    "r \\cos{\\left(\\phi \\right)} \\cos{\\left(\\theta \\right)} \\\\\n",
    "\\\\\n",
    "\\sin{\\left(\\phi \\right)} \\sin{\\left(\\theta \\right)} & \n",
    "r \\sin{\\left(\\phi \\right)} \\cos{\\left(\\theta \\right)} & \n",
    "r \\sin{\\left(\\theta \\right)} \\cos{\\left(\\phi \\right)} \\\\\n",
    "\\\\\n",
    "\\cos{\\left(\\phi \\right)} &\n",
    "0 &\n",
    "- r \\sin{\\left(\\phi \\right)}\n",
    "\\end{bmatrix}\n",
    "\\end{equation*}\n",
    "\n",
    "Evaluating the Jacobian at \n",
    "\\begin{equation*}\n",
    "r = 0, \\theta = 0, \\phi = 0\n",
    "\\end{equation*}\n",
    "gives\n",
    "\\begin{equation*}\n",
    "\\begin{bmatrix}\n",
    "0 & 0 & 0 \\\\\n",
    "0 & 0 & 0 \\\\\n",
    "0 & 0 & 1\n",
    "\\end{bmatrix}\n",
    "\\end{equation*}\n",
    "\n",
    "\n",
    "Evaluating the Jacobian at \n",
    "\\begin{equation*}\n",
    "r = 1, \\theta = 0, \\phi = 0\n",
    "\\end{equation*}\n",
    "gives\n",
    "\\begin{equation*}\n",
    "\\begin{bmatrix}\n",
    "0 & 0 & 1 \\\\\n",
    "0 & 0 & 2 \\\\\n",
    "0 & 0 & 1\n",
    "\\end{bmatrix}\n",
    "\\end{equation*}\n",
    "\n",
    "\n",
    "\n",
    "Evaluating the Jacobian at \n",
    "\\begin{equation*}\n",
    "r = 1, \\theta = \\frac{\\pi}{4}, \\phi = \\frac{\\pi}{4}\n",
    "\\end{equation*}\n",
    "gives\n",
    "\\begin{equation*}\n",
    "\\begin{bmatrix}\n",
    "\\frac{1}{2} & - \\frac{1}{2} & \\frac{1}{2}\\\\\n",
    "\\\\\n",
    "\\frac{1}{2} & \\frac{1}{2} & \\frac{1}{2}\\\\\n",
    "\\\\\n",
    "\\frac{\\sqrt{2}}{2} & 0 &  - \\frac{\\sqrt{2}}{2}\n",
    "\\end{bmatrix}\n",
    "\\end{equation*}\n"
   ]
  }
 ],
 "metadata": {
  "kernelspec": {
   "display_name": "conda",
   "language": "python",
   "name": "python3"
  },
  "language_info": {
   "codemirror_mode": {
    "name": "ipython",
    "version": 3
   },
   "file_extension": ".py",
   "mimetype": "text/x-python",
   "name": "python",
   "nbconvert_exporter": "python",
   "pygments_lexer": "ipython3",
   "version": "3.10.9"
  },
  "orig_nbformat": 4
 },
 "nbformat": 4,
 "nbformat_minor": 2
}
