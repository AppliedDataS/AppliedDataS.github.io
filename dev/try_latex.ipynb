{
 "cells": [
  {
   "cell_type": "code",
   "execution_count": 3,
   "metadata": {},
   "outputs": [
    {
     "name": "stdout",
     "output_type": "stream",
     "text": [
      "Cannot embed the 'pdf' image format\n"
     ]
    }
   ],
   "source": [
    "import numpy as np\n",
    "from IPython.display import HTML, Image, display\n",
    "\n",
    "from pylatex import Document, Section, Subsection, Tabular, Math, TikZ, Axis, \\\n",
    "    Plot, Figure, Matrix, Alignat\n",
    "from pylatex.utils import italic\n",
    "import os\n",
    "\n",
    "image_filename = '/Users/sophie/Documents/coursera courses/Math for machine learning/Multi-variant calculus/matrix_jacobian.png'\n",
    "\n",
    "geometry_options = {\"tmargin\": \"1cm\", \"lmargin\": \"10cm\"}\n",
    "doc = Document()\n",
    "\n",
    "with doc.create(Section('The simple stuff')):\n",
    "    doc.append('Some regular text and some')\n",
    "    doc.append(italic('italic text. '))\n",
    "    doc.append('\\nAlso some crazy characters: $&#{}')\n",
    "\n",
    "    try:\n",
    "        doc.generate_tex ('full', clean_tex=False)\n",
    "    except Exception as e:\n",
    "        pass\n",
    "try:\n",
    "    im = Image(\"full.pdf\")\n",
    "    display(im)\n",
    "\n",
    "except Exception as e:\n",
    "    print(e)\n"
   ]
  },
  {
   "cell_type": "markdown",
   "metadata": {},
   "source": []
  },
  {
   "cell_type": "code",
   "execution_count": null,
   "metadata": {},
   "outputs": [],
   "source": [
    "!p"
   ]
  }
 ],
 "metadata": {
  "kernelspec": {
   "display_name": ".venv",
   "language": "python",
   "name": "python3"
  },
  "language_info": {
   "codemirror_mode": {
    "name": "ipython",
    "version": 3
   },
   "file_extension": ".py",
   "mimetype": "text/x-python",
   "name": "python",
   "nbconvert_exporter": "python",
   "pygments_lexer": "ipython3",
   "version": "3.11.3"
  },
  "orig_nbformat": 4
 },
 "nbformat": 4,
 "nbformat_minor": 2
}
