{
 "cells": [
  {
   "cell_type": "code",
   "execution_count": 1,
   "metadata": {},
   "outputs": [],
   "source": [
    "try:\n",
    "  import re\n",
    "  import json\n",
    "  from IPython.core.display import HTML\n",
    "  import pandas as pd\n",
    "  from base64 import b64decode\n",
    "  from bs4 import BeautifulSoup as bs\n",
    "except ModuleNotFoundError as e:\n",
    "  %pip install pandas\n",
    "  %pip install beautifulsoup4\n",
    "  %pip install markdown2"
   ]
  },
  {
   "cell_type": "code",
   "execution_count": 23,
   "metadata": {},
   "outputs": [],
   "source": [
    "fn = 'neural_nets.ipynb'\n",
    "with open(fn) as f:\n",
    "  js = json.load(f)['cells']\n",
    "  df = pd.DataFrame(js)"
   ]
  },
  {
   "attachments": {},
   "cell_type": "markdown",
   "metadata": {},
   "source": []
  },
  {
   "cell_type": "code",
   "execution_count": 24,
   "metadata": {},
   "outputs": [],
   "source": [
    "def writePNG(txt, filename):\n",
    "  try:\n",
    "    with open(filename, 'wb') as f:\n",
    "      f.write(b64decode(txt))\n",
    "  except Exception as e:\n",
    "    return False\n",
    "  return True"
   ]
  },
  {
   "cell_type": "code",
   "execution_count": 25,
   "metadata": {},
   "outputs": [
    {
     "data": {
      "text/html": [
       "<div>\n",
       "<style scoped>\n",
       "    .dataframe tbody tr th:only-of-type {\n",
       "        vertical-align: middle;\n",
       "    }\n",
       "\n",
       "    .dataframe tbody tr th {\n",
       "        vertical-align: top;\n",
       "    }\n",
       "\n",
       "    .dataframe thead th {\n",
       "        text-align: right;\n",
       "    }\n",
       "</style>\n",
       "<table border=\"1\" class=\"dataframe\">\n",
       "  <thead>\n",
       "    <tr style=\"text-align: right;\">\n",
       "      <th></th>\n",
       "      <th>attachments</th>\n",
       "      <th>cell_type</th>\n",
       "      <th>metadata</th>\n",
       "      <th>source</th>\n",
       "      <th>execution_count</th>\n",
       "      <th>outputs</th>\n",
       "      <th>html</th>\n",
       "    </tr>\n",
       "  </thead>\n",
       "  <tbody>\n",
       "    <tr>\n",
       "      <th>0</th>\n",
       "      <td>{}</td>\n",
       "      <td>markdown</td>\n",
       "      <td>{}</td>\n",
       "      <td>[## Title\\n, This is isghsbajfdjakf]</td>\n",
       "      <td>NaN</td>\n",
       "      <td>NaN</td>\n",
       "      <td>[\\n, [\\n], \\n, [ Title\\n], \\n, \\n, [This is is...</td>\n",
       "    </tr>\n",
       "    <tr>\n",
       "      <th>1</th>\n",
       "      <td>NaN</td>\n",
       "      <td>code</td>\n",
       "      <td>{}</td>\n",
       "      <td>[try:\\n,     import networkx as nx\\n,     impo...</td>\n",
       "      <td>1.0</td>\n",
       "      <td>[]</td>\n",
       "      <td>[\\n, [\\n], \\n, [\\n, [\\n, &lt;code class=\"language...</td>\n",
       "    </tr>\n",
       "    <tr>\n",
       "      <th>2</th>\n",
       "      <td>NaN</td>\n",
       "      <td>code</td>\n",
       "      <td>{}</td>\n",
       "      <td>[def generateNNv(layers, edge_label_on=True,\\n...</td>\n",
       "      <td>2.0</td>\n",
       "      <td>[]</td>\n",
       "      <td>[\\n, [\\n], \\n, [\\n, [\\n, &lt;code class=\"language...</td>\n",
       "    </tr>\n",
       "    <tr>\n",
       "      <th>3</th>\n",
       "      <td>NaN</td>\n",
       "      <td>code</td>\n",
       "      <td>{}</td>\n",
       "      <td>[fig, ax = plt.subplots(figsize=(1, 1))\\n, ax....</td>\n",
       "      <td>3.0</td>\n",
       "      <td>[{'data': {'image/svg+xml': ['&lt;?xml version=\"1...</td>\n",
       "      <td>[\\n, [\\n], \\n, [\\n, [\\n, &lt;code class=\"language...</td>\n",
       "    </tr>\n",
       "    <tr>\n",
       "      <th>4</th>\n",
       "      <td>NaN</td>\n",
       "      <td>code</td>\n",
       "      <td>{}</td>\n",
       "      <td>[\\n, fig, ax = plt.subplots(figsize=(1, 1))\\n,...</td>\n",
       "      <td>4.0</td>\n",
       "      <td>[{'data': {'image/svg+xml': ['&lt;?xml version=\"1...</td>\n",
       "      <td>[\\n, [\\n], \\n, [\\n, [\\n, &lt;code class=\"language...</td>\n",
       "    </tr>\n",
       "  </tbody>\n",
       "</table>\n",
       "</div>"
      ],
      "text/plain": [
       "  attachments cell_type metadata   \n",
       "0          {}  markdown       {}  \\\n",
       "1         NaN      code       {}   \n",
       "2         NaN      code       {}   \n",
       "3         NaN      code       {}   \n",
       "4         NaN      code       {}   \n",
       "\n",
       "                                              source  execution_count   \n",
       "0               [## Title\\n, This is isghsbajfdjakf]              NaN  \\\n",
       "1  [try:\\n,     import networkx as nx\\n,     impo...              1.0   \n",
       "2  [def generateNNv(layers, edge_label_on=True,\\n...              2.0   \n",
       "3  [fig, ax = plt.subplots(figsize=(1, 1))\\n, ax....              3.0   \n",
       "4  [\\n, fig, ax = plt.subplots(figsize=(1, 1))\\n,...              4.0   \n",
       "\n",
       "                                             outputs   \n",
       "0                                                NaN  \\\n",
       "1                                                 []   \n",
       "2                                                 []   \n",
       "3  [{'data': {'image/svg+xml': ['<?xml version=\"1...   \n",
       "4  [{'data': {'image/svg+xml': ['<?xml version=\"1...   \n",
       "\n",
       "                                                html  \n",
       "0  [\\n, [\\n], \\n, [ Title\\n], \\n, \\n, [This is is...  \n",
       "1  [\\n, [\\n], \\n, [\\n, [\\n, <code class=\"language...  \n",
       "2  [\\n, [\\n], \\n, [\\n, [\\n, <code class=\"language...  \n",
       "3  [\\n, [\\n], \\n, [\\n, [\\n, <code class=\"language...  \n",
       "4  [\\n, [\\n], \\n, [\\n, [\\n, <code class=\"language...  "
      ]
     },
     "execution_count": 25,
     "metadata": {},
     "output_type": "execute_result"
    }
   ],
   "source": [
    "\n",
    "df['html'] = df.apply(getHTML,axis=1)\n",
    "df.head()"
   ]
  },
  {
   "cell_type": "code",
   "execution_count": 26,
   "metadata": {},
   "outputs": [
    {
     "ename": "FileNotFoundError",
     "evalue": "[Errno 2] No such file or directory: '../html/nav.html'",
     "output_type": "error",
     "traceback": [
      "\u001b[0;31m---------------------------------------------------------------------------\u001b[0m",
      "\u001b[0;31mFileNotFoundError\u001b[0m                         Traceback (most recent call last)",
      "Cell \u001b[0;32mIn[26], line 3\u001b[0m\n\u001b[1;32m      1\u001b[0m \u001b[39mwith\u001b[39;00m \u001b[39mopen\u001b[39m(\u001b[39m'\u001b[39m\u001b[39mdoc_temp.html\u001b[39m\u001b[39m'\u001b[39m) \u001b[39mas\u001b[39;00m f:\n\u001b[1;32m      2\u001b[0m   page \u001b[39m=\u001b[39m bs(f,\u001b[39m'\u001b[39m\u001b[39mhtml\u001b[39m\u001b[39m'\u001b[39m)\n\u001b[0;32m----> 3\u001b[0m \u001b[39mwith\u001b[39;00m \u001b[39mopen\u001b[39;49m(\u001b[39m'\u001b[39;49m\u001b[39m../html/nav.html\u001b[39;49m\u001b[39m'\u001b[39;49m) \u001b[39mas\u001b[39;00m f:\n\u001b[1;32m      4\u001b[0m   nav \u001b[39m=\u001b[39m bs(f,\u001b[39m'\u001b[39m\u001b[39mhtml\u001b[39m\u001b[39m'\u001b[39m)\n\u001b[1;32m      5\u001b[0m page\u001b[39m.\u001b[39mhead\u001b[39m.\u001b[39mappend(\u001b[39m'\u001b[39m\u001b[39m'\u001b[39m)\n",
      "File \u001b[0;32m~/AppliedDataS.github.io/.conda/lib/python3.10/site-packages/IPython/core/interactiveshell.py:284\u001b[0m, in \u001b[0;36m_modified_open\u001b[0;34m(file, *args, **kwargs)\u001b[0m\n\u001b[1;32m    277\u001b[0m \u001b[39mif\u001b[39;00m file \u001b[39min\u001b[39;00m {\u001b[39m0\u001b[39m, \u001b[39m1\u001b[39m, \u001b[39m2\u001b[39m}:\n\u001b[1;32m    278\u001b[0m     \u001b[39mraise\u001b[39;00m \u001b[39mValueError\u001b[39;00m(\n\u001b[1;32m    279\u001b[0m         \u001b[39mf\u001b[39m\u001b[39m\"\u001b[39m\u001b[39mIPython won\u001b[39m\u001b[39m'\u001b[39m\u001b[39mt let you open fd=\u001b[39m\u001b[39m{\u001b[39;00mfile\u001b[39m}\u001b[39;00m\u001b[39m by default \u001b[39m\u001b[39m\"\u001b[39m\n\u001b[1;32m    280\u001b[0m         \u001b[39m\"\u001b[39m\u001b[39mas it is likely to crash IPython. If you know what you are doing, \u001b[39m\u001b[39m\"\u001b[39m\n\u001b[1;32m    281\u001b[0m         \u001b[39m\"\u001b[39m\u001b[39myou can use builtins\u001b[39m\u001b[39m'\u001b[39m\u001b[39m open.\u001b[39m\u001b[39m\"\u001b[39m\n\u001b[1;32m    282\u001b[0m     )\n\u001b[0;32m--> 284\u001b[0m \u001b[39mreturn\u001b[39;00m io_open(file, \u001b[39m*\u001b[39;49margs, \u001b[39m*\u001b[39;49m\u001b[39m*\u001b[39;49mkwargs)\n",
      "\u001b[0;31mFileNotFoundError\u001b[0m: [Errno 2] No such file or directory: '../html/nav.html'"
     ]
    }
   ],
   "source": [
    "with open('doc_temp.html') as f:\n",
    "  page = bs(f,'html')\n",
    "with open('../html/nav.html') as f:\n",
    "  nav = bs(f,'html')\n",
    "page.head.append('')\n",
    "page.find('div', id='navbar').append(nav)\n",
    "page.head.title.string = 'Jacobian'\n",
    "page.find(class_='title').string='Jacobian'\n",
    "for h in html:\n",
    "  if len(h)>1:\n",
    "    page.find('div', id='dynamic_content').append(h)"
   ]
  },
  {
   "cell_type": "code",
   "execution_count": 8,
   "metadata": {},
   "outputs": [],
   "source": [
    "with open(\"output1.html\", \"w\", encoding='utf-8') as file:\n",
    "    file.write(str(page))"
   ]
  },
  {
   "cell_type": "code",
   "execution_count": 9,
   "metadata": {},
   "outputs": [
    {
     "data": {
      "text/plain": [
       "'\\\\begin{equation*}\\n\\nf(x) = x^{2}y+3z\\n\\n\\\\end{equation*}'"
      ]
     },
     "execution_count": 9,
     "metadata": {},
     "output_type": "execute_result"
    }
   ],
   "source": [
    "def getHTML(row,\n",
    "            texCapsul_s = '<p class=\"katex\">\\n$$\\n',\n",
    "            texCapsul_e =\"\\n$$\\n</p>\\n\",\n",
    "            codeCapsule_s = \"\\n<div>\\n<pre>\\n<code class='language-python'>\",\n",
    "            codeCapsule_e = \"\\n</code>\\n</pre>\\n</div>\\n\"):\n",
    "\n",
    "    htm = bs('\\n<div>\\n</div>', 'html.parser')\n",
    "    if row['cell_type'] == 'code':\n",
    "        text = ''\n",
    "        text += codeCapsule_s\n",
    "        for s in row['source']:\n",
    "            if s.strip() == '':\n",
    "                continue\n",
    "\n",
    "            text += s\n",
    "        text += codeCapsule_e\n",
    "        htm.append(bs(text))\n",
    "    if row['cell_type'] == 'markdown':\n",
    "        headerDict = {'#'*i: [f'\\n<h{i}>', f'</h{i}>\\n'] for i in range(1, 7)}\n",
    "        found = False\n",
    "        eq = [texCapsul_s]\n",
    "        for s in row['source']:\n",
    "            if s.startswith('\\\\begin{equation}') or \\\n",
    "            s.startswith('\\\\begin{equation*}'):\n",
    "                found = True\n",
    "                eq.append(s)\n",
    "            elif found and (s.startswith('\\\\end{equation}') or\n",
    "                    s.startswith('\\\\end{equation*}')):\n",
    "                eq.append(s)\n",
    "                eq.append(texCapsul_e)\n",
    "                htm.append(bs(''.join(eq)))\n",
    "                found = False\n",
    "                eq = [texCapsul_s]\n",
    "            elif found :\n",
    "                eq.append(s)\n",
    "            else:\n",
    "                x = ''\n",
    "                if s.strip() == '':\n",
    "                    continue\n",
    "                if s.strip()[0] == '#':\n",
    "                    k = s.count('#')*'#'\n",
    "                    x = headerDict[k][0] + s.replace(k, '') + headerDict[k][1]\n",
    "                else:\n",
    "                    x = f'\\n<span>{s}</span>\\n'\n",
    "                htm.append(bs(x))\n",
    "    return htm\n",
    "\n",
    "def ipynb2html(inFile,\n",
    "               outFile='',\n",
    "               tempDoc='doc_temp.html',\n",
    "               mrkdnTmpl = '{\"cells\": [{\"cell_type\": \"markdown\", \"metadata\": {}, \"source\": []}], \"metadata\": {\"language_info\": {\"name\": \"python\"}, \"orig_nbformat\": 4}, \"nbformat\": 4, \"nbformat_minor\": 2}',\n",
    "              texCapsul_s = '<p class=\"katex\">\\n$$\\n',\n",
    "              texCapsul_e =\"\\n$$\\n</p>\\n\",\n",
    "              codeCapsule_s = \"\\n<div>\\n<pre>\\n<code class='language-python'>\",\n",
    "              codeCapsule_e = \"\\n</code>\\n</pre>\\n</div>\\n\",\n",
    "              navF = '../html/nav.html', \n",
    "              cssDir='css', \n",
    "              jsDir='js'):\n",
    "    \n",
    "  with open(inFile) as f:\n",
    "    df = pd.DataFrame( json.load(f)['cells'])\n",
    "    f.close()\n",
    "df['html'] = df.apply(getHTML,axis=1)\n",
    "with open(tempDoc) as f:\n",
    "    page = bs(f,'html')\n",
    "with open(navF) as f:\n",
    "    nav = bs(f,'html')\n",
    "page.head.append('')\n",
    "page.find('div', id='navbar').append(nav)\n",
    "page.head.title.string = 'Jacobian'\n",
    "page.find(class_='title').string='Jacobian'\n",
    "for h in df.html:\n",
    "  if len(h)>1:\n",
    "    page.find('div', id='dynamic_content').append(h)\n",
    "if outFile == '':\n",
    "    outFile = '.'.join(inFile.split('.')[:-1]) + '.html'\n",
    "with open(outFile, \"w\", encoding='utf-8') as file:\n",
    "    file.write(str(page))\n"
   ]
  },
  {
   "cell_type": "code",
   "execution_count": 28,
   "metadata": {},
   "outputs": [],
   "source": [
    "\n",
    "o = df[df.cell_type == 'code'].outputs.iloc[5]"
   ]
  },
  {
   "cell_type": "code",
   "execution_count": 38,
   "metadata": {},
   "outputs": [
    {
     "data": {
      "text/plain": [
       "'execute_result'"
      ]
     },
     "execution_count": 38,
     "metadata": {},
     "output_type": "execute_result"
    }
   ],
   "source": [
    "o[0]['output_type']"
   ]
  },
  {
   "cell_type": "code",
   "execution_count": null,
   "metadata": {},
   "outputs": [],
   "source": [
    "for oo in o:\n",
    "    "
   ]
  }
 ],
 "metadata": {
  "kernelspec": {
   "display_name": "Python 3",
   "language": "python",
   "name": "python3"
  },
  "language_info": {
   "codemirror_mode": {
    "name": "ipython",
    "version": 3
   },
   "file_extension": ".py",
   "mimetype": "text/x-python",
   "name": "python",
   "nbconvert_exporter": "python",
   "pygments_lexer": "ipython3",
   "version": "3.10.10"
  },
  "orig_nbformat": 4
 },
 "nbformat": 4,
 "nbformat_minor": 2
}
