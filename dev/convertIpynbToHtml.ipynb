{
 "cells": [
  {
   "cell_type": "code",
   "execution_count": 1,
   "metadata": {},
   "outputs": [],
   "source": [
    "try:\n",
    "  import re\n",
    "  import json\n",
    "  from IPython.core.display import HTML\n",
    "  import pandas as pd\n",
    "  from base64 import b64decode\n",
    "  from bs4 import BeautifulSoup as bs\n",
    "except ModuleNotFoundError as e:\n",
    "  %pip install pandas\n",
    "  %pip install beautifulsoup4\n",
    "  %pip install markdown2"
   ]
  },
  {
   "cell_type": "code",
   "execution_count": 2,
   "metadata": {},
   "outputs": [],
   "source": [
    "fn = 'neural_nets.ipynb'\n",
    "with open(fn) as f:\n",
    "  js = json.load(f)['cells']\n",
    "  df = pd.DataFrame(js)"
   ]
  },
  {
   "attachments": {},
   "cell_type": "markdown",
   "metadata": {},
   "source": []
  },
  {
   "cell_type": "code",
   "execution_count": 3,
   "metadata": {},
   "outputs": [],
   "source": [
    "def writePNG(txt, filename):\n",
    "  try:\n",
    "    with open(filename, 'wb') as f:\n",
    "      f.write(b64decode(txt))\n",
    "  except Exception as e:\n",
    "    return False\n",
    "  return True"
   ]
  },
  {
   "cell_type": "code",
   "execution_count": 4,
   "metadata": {},
   "outputs": [],
   "source": [
    "def getHTML(row,\n",
    "            texCapsul_s='<p class=\"katex\">\\n$$\\n',\n",
    "            texCapsul_e=\"\\n$$\\n</p>\\n\",\n",
    "            codeCapsule_s=\"\\n<div>\\n<pre>\\n<code class='language-python'>\",\n",
    "            codeCapsule_e=\"\\n</code>\\n</pre>\\n</div>\\n\"):\n",
    "\n",
    "    htm = bs('\\n<div>\\n</div>', 'html.parser')\n",
    "    if row['cell_type'] == 'code':\n",
    "        text = ''\n",
    "        text += codeCapsule_s\n",
    "        for s in row['source']:\n",
    "            if s.strip() == '':\n",
    "                continue\n",
    "\n",
    "            text += s\n",
    "        text += codeCapsule_e\n",
    "        htm.append(bs(text))\n",
    "    if row['cell_type'] == 'markdown':\n",
    "        headerDict = {'#'*i: [f'\\n<h{i}>', f'</h{i}>\\n'] for i in range(1, 7)}\n",
    "        found = False\n",
    "        eq = [texCapsul_s]\n",
    "        for s in row['source']:\n",
    "            if s.startswith('\\\\begin{equation}') or \\\n",
    "                    s.startswith('\\\\begin{equation*}'):\n",
    "                found = True\n",
    "                eq.append(s)\n",
    "            elif found and (s.startswith('\\\\end{equation}') or\n",
    "                            s.startswith('\\\\end{equation*}')):\n",
    "                eq.append(s)\n",
    "                eq.append(texCapsul_e)\n",
    "                htm.append(bs(''.join(eq)))\n",
    "                found = False\n",
    "                eq = [texCapsul_s]\n",
    "            elif found:\n",
    "                eq.append(s)\n",
    "            else:\n",
    "                x = ''\n",
    "                if s.strip() == '':\n",
    "                    continue\n",
    "                if s.strip()[0] == '#':\n",
    "                    k = s.count('#')*'#'\n",
    "                    x = headerDict[k][0] + s.replace(k, '') + headerDict[k][1]\n",
    "                else:\n",
    "                    x = f'\\n<span>{s}</span>\\n'\n",
    "                htm.append(bs(x))\n",
    "    return htm\n",
    "\n",
    "\n",
    "def ipynb2html(inFile,\n",
    "               outFile='',\n",
    "               tempDoc='doc_temp.html',\n",
    "               mrkdnTmpl='{\"cells\": [{\"cell_type\": \"markdown\", \"metadata\": {}, \"source\": []}], \"metadata\": {\"language_info\": {\"name\": \"python\"}, \"orig_nbformat\": 4}, \"nbformat\": 4, \"nbformat_minor\": 2}',\n",
    "               texCapsul_s='<p class=\"katex\">\\n$$\\n',\n",
    "               texCapsul_e=\"\\n$$\\n</p>\\n\",\n",
    "               codeCapsule_s=\"\\n<div>\\n<pre>\\n<code class='language-python'>\",\n",
    "               codeCapsule_e=\"\\n</code>\\n</pre>\\n</div>\\n\",\n",
    "               navF='../html/nav.html',\n",
    "               cssDir='css',\n",
    "               jsDir='js',\n",
    "               htmlDir='html',\n",
    "               title='title'):\n",
    "\n",
    "    with open(inFile) as f:\n",
    "        df = pd.DataFrame(json.load(f)['cells'])\n",
    "        f.close()\n",
    "        df['html'] = df.apply(getHTML, axis=1)\n",
    "        with open(tempDoc) as f:\n",
    "            page = bs(f, 'html')\n",
    "        with open(navF) as f:\n",
    "            nav = bs(f, 'html')\n",
    "        for a in nav.find_all('a'):\n",
    "            a['href'] = htmlDir + a['href'].split('/')[-1]\n",
    "        for h in page.body.find_all('script'):\n",
    "            if not h['src'].startswith('http'):\n",
    "                h['src'] = jsDir + h['src'].split('/')[-1]\n",
    "        for h in page.head.find_all('link'):\n",
    "            if not h['href'].startswith('http'):\n",
    "                h['href'] = cssDir + h['href'].split('/')[-1]\n",
    "        page.find('div', id='navbar').append(nav)\n",
    "        page.head.title.string = title\n",
    "        page.find(class_='title').string = title\n",
    "        for h in df.html:\n",
    "            if len(h) > 1:\n",
    "                page.find('div', id='dynamic_content').append(h)\n",
    "        if outFile == '':\n",
    "            outFile = '.'.join(inFile.split('.')[:-1]) + '.html'\n",
    "        with open(outFile, \"w\", encoding='utf-8') as file:\n",
    "            file.write(str(page))\n"
   ]
  },
  {
   "cell_type": "code",
   "execution_count": null,
   "metadata": {},
   "outputs": [],
   "source": [
    "\n"
   ]
  },
  {
   "cell_type": "code",
   "execution_count": 5,
   "metadata": {},
   "outputs": [],
   "source": [
    "navF = '../docs/View/html/nav.html'\n",
    "cssDir = '../css/'\n",
    "jsDir = '../js/'\n",
    "htmlDir = '../html/'\n",
    "fn = '../index.ipynb'\n",
    "ipynb2html(fn,\n",
    "           '../docs/View/html/index.html',\n",
    "           jsDir=jsDir,\n",
    "           htmlDir=htmlDir,\n",
    "           cssDir=cssDir,\n",
    "           navF=navF,\n",
    "           title='My Coding Journey')\n"
   ]
  },
  {
   "cell_type": "code",
   "execution_count": 6,
   "metadata": {},
   "outputs": [],
   "source": [
    "# fix navigation\n",
    "def fixNav(fn ,\n",
    "           navF = '../docs/View/html/nav.html',\n",
    "           cssDir='../css/',\n",
    "           jsDir='../js/',\n",
    "           htmlDir='../html/'):\n",
    "    with open(fn) as f:\n",
    "        page = bs(f, 'html')\n",
    "    with open(navF) as f:\n",
    "        nav = bs(f, 'html')\n",
    "    for a in nav.find_all('a'):\n",
    "        a['href'] = htmlDir + a['href'].split('/')[-1]\n",
    "    for h in page.body.find_all('script'):\n",
    "        if not h['src'].startswith('http'):\n",
    "            h['src'] = jsDir + h['src'].split('/')[-1]\n",
    "    for h in page.head.find_all('link'):\n",
    "        if not h['href'].startswith('http'):\n",
    "            h['href'] = cssDir + h['href'].split('/')[-1]\n",
    "    tag = page.find('script', id='navbar')\n",
    "    try:\n",
    "        tag.name = 'div'\n",
    "        del tag['src']\n",
    "    except:\n",
    "        page.append(bs('<div id=\"navbar\"></div>'))\n",
    "    page.find('div', id='navbar').append(nav)\n",
    "    with open(fn, \"w\", encoding='utf-8') as file:\n",
    "        file.write(str(page))\n",
    "    return page\n",
    "\n"
   ]
  },
  {
   "cell_type": "code",
   "execution_count": 7,
   "metadata": {},
   "outputs": [],
   "source": [
    "files = !find ../docs/View/html -iname \"*.html\""
   ]
  },
  {
   "cell_type": "code",
   "execution_count": 18,
   "metadata": {},
   "outputs": [
    {
     "data": {
      "text/plain": [
       "['../docs/View/html/index.html',\n",
       " '../docs/View/html/previois.html',\n",
       " '../docs/View/html/articles/windows0105.html',\n",
       " '../docs/View/html/articles/latex_html.html',\n",
       " '../docs/View/html/articles/add_user_to_sudo_list.html',\n",
       " '../docs/View/html/articles/filetypes.html',\n",
       " '../docs/View/html/articles/linuxtips.html',\n",
       " '../docs/View/html/articles/startup_chime.html',\n",
       " '../docs/View/html/articles/generate_vs_code_snippet.html',\n",
       " '../docs/View/html/articles/nav.html',\n",
       " '../docs/View/html/research_intersts.html',\n",
       " '../docs/View/html/general_intersts.html',\n",
       " '../docs/View/html/nav.html']"
      ]
     },
     "execution_count": 18,
     "metadata": {},
     "output_type": "execute_result"
    }
   ],
   "source": [
    "files"
   ]
  },
  {
   "cell_type": "code",
   "execution_count": 17,
   "metadata": {},
   "outputs": [
    {
     "ename": "AttributeError",
     "evalue": "'NoneType' object has no attribute 'find_all'",
     "output_type": "error",
     "traceback": [
      "\u001b[0;31m---------------------------------------------------------------------------\u001b[0m",
      "\u001b[0;31mAttributeError\u001b[0m                            Traceback (most recent call last)",
      "Cell \u001b[0;32mIn[17], line 2\u001b[0m\n\u001b[1;32m      1\u001b[0m \u001b[39mfor\u001b[39;00m f \u001b[39min\u001b[39;00m files:\n\u001b[0;32m----> 2\u001b[0m     fixNav(f)\n",
      "Cell \u001b[0;32mIn[6], line 13\u001b[0m, in \u001b[0;36mfixNav\u001b[0;34m(fn, navF, cssDir, jsDir, htmlDir)\u001b[0m\n\u001b[1;32m     11\u001b[0m \u001b[39mfor\u001b[39;00m a \u001b[39min\u001b[39;00m nav\u001b[39m.\u001b[39mfind_all(\u001b[39m'\u001b[39m\u001b[39ma\u001b[39m\u001b[39m'\u001b[39m):\n\u001b[1;32m     12\u001b[0m     a[\u001b[39m'\u001b[39m\u001b[39mhref\u001b[39m\u001b[39m'\u001b[39m] \u001b[39m=\u001b[39m htmlDir \u001b[39m+\u001b[39m a[\u001b[39m'\u001b[39m\u001b[39mhref\u001b[39m\u001b[39m'\u001b[39m]\u001b[39m.\u001b[39msplit(\u001b[39m'\u001b[39m\u001b[39m/\u001b[39m\u001b[39m'\u001b[39m)[\u001b[39m-\u001b[39m\u001b[39m1\u001b[39m]\n\u001b[0;32m---> 13\u001b[0m \u001b[39mfor\u001b[39;00m h \u001b[39min\u001b[39;00m page\u001b[39m.\u001b[39;49mbody\u001b[39m.\u001b[39;49mfind_all(\u001b[39m'\u001b[39m\u001b[39mscript\u001b[39m\u001b[39m'\u001b[39m):\n\u001b[1;32m     14\u001b[0m     \u001b[39mif\u001b[39;00m \u001b[39mnot\u001b[39;00m h[\u001b[39m'\u001b[39m\u001b[39msrc\u001b[39m\u001b[39m'\u001b[39m]\u001b[39m.\u001b[39mstartswith(\u001b[39m'\u001b[39m\u001b[39mhttp\u001b[39m\u001b[39m'\u001b[39m):\n\u001b[1;32m     15\u001b[0m         h[\u001b[39m'\u001b[39m\u001b[39msrc\u001b[39m\u001b[39m'\u001b[39m] \u001b[39m=\u001b[39m jsDir \u001b[39m+\u001b[39m h[\u001b[39m'\u001b[39m\u001b[39msrc\u001b[39m\u001b[39m'\u001b[39m]\u001b[39m.\u001b[39msplit(\u001b[39m'\u001b[39m\u001b[39m/\u001b[39m\u001b[39m'\u001b[39m)[\u001b[39m-\u001b[39m\u001b[39m1\u001b[39m]\n",
      "\u001b[0;31mAttributeError\u001b[0m: 'NoneType' object has no attribute 'find_all'"
     ]
    }
   ],
   "source": [
    "for f in files:\n",
    "    fixNav(f)"
   ]
  },
  {
   "cell_type": "code",
   "execution_count": null,
   "metadata": {},
   "outputs": [],
   "source": []
  }
 ],
 "metadata": {
  "kernelspec": {
   "display_name": "Python 3",
   "language": "python",
   "name": "python3"
  },
  "language_info": {
   "codemirror_mode": {
    "name": "ipython",
    "version": 3
   },
   "file_extension": ".py",
   "mimetype": "text/x-python",
   "name": "python",
   "nbconvert_exporter": "python",
   "pygments_lexer": "ipython3",
   "version": "3.10.10"
  },
  "orig_nbformat": 4
 },
 "nbformat": 4,
 "nbformat_minor": 2
}
